{
  "nbformat": 4,
  "nbformat_minor": 0,
  "metadata": {
    "colab": {
      "name": "2_day5-cats_dogs.ipynb",
      "version": "0.3.2",
      "provenance": [],
      "toc_visible": true,
      "include_colab_link": true
    },
    "kernelspec": {
      "name": "python3",
      "display_name": "Python 3"
    },
    "accelerator": "GPU"
  },
  "cells": [
    {
      "cell_type": "markdown",
      "metadata": {
        "id": "view-in-github",
        "colab_type": "text"
      },
      "source": [
        "<a href=\"https://colab.research.google.com/github/Rafal23/Cats_and_Dogs/blob/master/2_day5_cats_dogs.ipynb\" target=\"_parent\"><img src=\"https://colab.research.google.com/assets/colab-badge.svg\" alt=\"Open In Colab\"/></a>"
      ]
    },
    {
      "metadata": {
        "id": "3yGt-kKDSED9",
        "colab_type": "code",
        "colab": {
          "base_uri": "https://localhost:8080/",
          "height": 33
        },
        "outputId": "c2afb0b6-c7bc-4fca-8491-087ada0c3c48"
      },
      "cell_type": "code",
      "source": [
        "from keras.models import Sequential\n",
        "from keras.layers import Dense, Flatten, Conv2D, MaxPool2D, Dropout\n",
        "\n",
        "import os \n",
        "import zipfile\n",
        "\n",
        "import matplotlib.pyplot as plt\n",
        "%matplotlib inline"
      ],
      "execution_count": 1,
      "outputs": [
        {
          "output_type": "stream",
          "text": [
            "Using TensorFlow backend.\n"
          ],
          "name": "stderr"
        }
      ]
    },
    {
      "metadata": {
        "id": "Q3JWUiJoSvH4",
        "colab_type": "text"
      },
      "cell_type": "markdown",
      "source": [
        "**Pobieranie danych**\n",
        "\n",
        "---\n",
        "\n"
      ]
    },
    {
      "metadata": {
        "id": "tTJi-2u6SzWD",
        "colab_type": "code",
        "colab": {
          "base_uri": "https://localhost:8080/",
          "height": 196
        },
        "outputId": "4cb40367-f37d-4a11-a3d4-c7a385fe31ef"
      },
      "cell_type": "code",
      "source": [
        "!wget --no-check-certificate \\\n",
        "    https://storage.googleapis.com/mledu-datasets/cats_and_dogs_filtered.zip \\\n",
        "    -O /tmp/cats_and_dogs_filtered.zip"
      ],
      "execution_count": 2,
      "outputs": [
        {
          "output_type": "stream",
          "text": [
            "--2019-04-12 16:58:32--  https://storage.googleapis.com/mledu-datasets/cats_and_dogs_filtered.zip\n",
            "Resolving storage.googleapis.com (storage.googleapis.com)... 74.125.141.128, 2607:f8b0:400c:c06::80\n",
            "Connecting to storage.googleapis.com (storage.googleapis.com)|74.125.141.128|:443... connected.\n",
            "HTTP request sent, awaiting response... 200 OK\n",
            "Length: 68606236 (65M) [application/zip]\n",
            "Saving to: ‘/tmp/cats_and_dogs_filtered.zip’\n",
            "\n",
            "/tmp/cats_and_dogs_ 100%[===================>]  65.43M   149MB/s    in 0.4s    \n",
            "\n",
            "2019-04-12 16:58:33 (149 MB/s) - ‘/tmp/cats_and_dogs_filtered.zip’ saved [68606236/68606236]\n",
            "\n"
          ],
          "name": "stdout"
        }
      ]
    },
    {
      "metadata": {
        "id": "6Nba02IYTW9o",
        "colab_type": "text"
      },
      "cell_type": "markdown",
      "source": [
        "**Wypakowanie danych**\n",
        "\n",
        "---\n",
        "\n",
        "\n",
        "\n",
        "1.   Podanie ścieżki do tmp\n",
        "2.   Wypakowanie all plików naraz\n",
        "\n"
      ]
    },
    {
      "metadata": {
        "id": "u98RKi6KfreO",
        "colab_type": "code",
        "colab": {
          "base_uri": "https://localhost:8080/",
          "height": 33
        },
        "outputId": "b76f2c67-71de-4968-a56b-04936c9323ff"
      },
      "cell_type": "code",
      "source": [
        "% cd /content/"
      ],
      "execution_count": 8,
      "outputs": [
        {
          "output_type": "stream",
          "text": [
            "/content\n"
          ],
          "name": "stdout"
        }
      ]
    },
    {
      "metadata": {
        "id": "pXaZ5IoyWF8i",
        "colab_type": "code",
        "colab": {}
      },
      "cell_type": "code",
      "source": [
        "local_zip = '/tmp/cats_and_dogs_filtered.zip' #1\n",
        "zip_ = zipfile.ZipFile(local_zip, 'r') #2\n",
        "zip_.extractall(path='/content/2_day5-cats_and-dogs')\n",
        "zip_.close()"
      ],
      "execution_count": 0,
      "outputs": []
    },
    {
      "metadata": {
        "id": "KFFCN3tneCAR",
        "colab_type": "text"
      },
      "cell_type": "markdown",
      "source": [
        "**Usuwanie plików i katalogów**\n",
        "\n",
        "---\n",
        "\n"
      ]
    },
    {
      "metadata": {
        "id": "iiep9G8HXp2_",
        "colab_type": "code",
        "colab": {
          "base_uri": "https://localhost:8080/",
          "height": 33
        },
        "outputId": "c78a4aeb-7e1f-4607-dffc-73f944bb3342"
      },
      "cell_type": "code",
      "source": [
        "%cd /tmp/\n",
        "\n",
        "#!rm -rf cats_and_dogs_filtered #- usuwanie katalogów \n",
        "#!rm *.zip #- usuwanie plików"
      ],
      "execution_count": 5,
      "outputs": [
        {
          "output_type": "stream",
          "text": [
            "/tmp\n"
          ],
          "name": "stdout"
        }
      ]
    },
    {
      "metadata": {
        "id": "-DL0SRcAgtSB",
        "colab_type": "text"
      },
      "cell_type": "markdown",
      "source": [
        "**Tworzenie ścieżek danych**\n",
        "\n",
        "---\n",
        "\n"
      ]
    },
    {
      "metadata": {
        "id": "VH5yC8O8XyIM",
        "colab_type": "code",
        "colab": {
          "base_uri": "https://localhost:8080/",
          "height": 33
        },
        "outputId": "1cb3bec3-ea03-4508-cfd6-3881e2bf58f4"
      },
      "cell_type": "code",
      "source": [
        "base_dir = '/content/2_day5-cats_and-dogs/cats_and_dogs_filtered'\n",
        "\n",
        "train_dir = os.path.join(base_dir, 'train')\n",
        "train_cats_dir = os.path.join(train_dir, 'cats')\n",
        "train_dogs_dir = os.path.join(train_dir, 'dogs')\n",
        "\n",
        "validation_dir = os.path.join(base_dir, 'validation')\n",
        "validation_cats_dir = os.path.join(validation_dir, 'cats')\n",
        "validation_dogs_dir = os.path.join(validation_dir, 'dogs')\n",
        "\n",
        "\n",
        "validation_dogs_dir"
      ],
      "execution_count": 12,
      "outputs": [
        {
          "output_type": "execute_result",
          "data": {
            "text/plain": [
              "'/content/2_day5-cats_and-dogs/cats_and_dogs_filtered/validation/dogs'"
            ]
          },
          "metadata": {
            "tags": []
          },
          "execution_count": 12
        }
      ]
    },
    {
      "metadata": {
        "id": "B4Rz2ZJ-iR7J",
        "colab_type": "text"
      },
      "cell_type": "markdown",
      "source": [
        "**Wczytywanie danych**\n",
        "\n",
        "---\n",
        "\n"
      ]
    },
    {
      "metadata": {
        "id": "3ACkEPtuhOr2",
        "colab_type": "code",
        "colab": {
          "base_uri": "https://localhost:8080/",
          "height": 830
        },
        "outputId": "7fdf7a39-cf80-437a-fea1-ac9812a1f32c"
      },
      "cell_type": "code",
      "source": [
        "all_cats_files = os.listdir(train_cats_dir)\n",
        "cats_files = [os.path.join(train_cats_dir, file) for file in all_cats_files][:25]\n",
        "\n",
        "\n",
        "all_dogs_files = os.listdir(train_dogs_dir)\n",
        "dogs_files = [os.path.join(train_dogs_dir, file) for file in all_dogs_files][:25]\n",
        "\n",
        "cats_files, dogs_files\n",
        "\n",
        "\n"
      ],
      "execution_count": 20,
      "outputs": [
        {
          "output_type": "execute_result",
          "data": {
            "text/plain": [
              "(['/content/2_day5-cats_and-dogs/cats_and_dogs_filtered/train/cats/cat.23.jpg',\n",
              "  '/content/2_day5-cats_and-dogs/cats_and_dogs_filtered/train/cats/cat.780.jpg',\n",
              "  '/content/2_day5-cats_and-dogs/cats_and_dogs_filtered/train/cats/cat.144.jpg',\n",
              "  '/content/2_day5-cats_and-dogs/cats_and_dogs_filtered/train/cats/cat.723.jpg',\n",
              "  '/content/2_day5-cats_and-dogs/cats_and_dogs_filtered/train/cats/cat.914.jpg',\n",
              "  '/content/2_day5-cats_and-dogs/cats_and_dogs_filtered/train/cats/cat.359.jpg',\n",
              "  '/content/2_day5-cats_and-dogs/cats_and_dogs_filtered/train/cats/cat.484.jpg',\n",
              "  '/content/2_day5-cats_and-dogs/cats_and_dogs_filtered/train/cats/cat.535.jpg',\n",
              "  '/content/2_day5-cats_and-dogs/cats_and_dogs_filtered/train/cats/cat.254.jpg',\n",
              "  '/content/2_day5-cats_and-dogs/cats_and_dogs_filtered/train/cats/cat.289.jpg',\n",
              "  '/content/2_day5-cats_and-dogs/cats_and_dogs_filtered/train/cats/cat.425.jpg',\n",
              "  '/content/2_day5-cats_and-dogs/cats_and_dogs_filtered/train/cats/cat.688.jpg',\n",
              "  '/content/2_day5-cats_and-dogs/cats_and_dogs_filtered/train/cats/cat.271.jpg',\n",
              "  '/content/2_day5-cats_and-dogs/cats_and_dogs_filtered/train/cats/cat.240.jpg',\n",
              "  '/content/2_day5-cats_and-dogs/cats_and_dogs_filtered/train/cats/cat.705.jpg',\n",
              "  '/content/2_day5-cats_and-dogs/cats_and_dogs_filtered/train/cats/cat.379.jpg',\n",
              "  '/content/2_day5-cats_and-dogs/cats_and_dogs_filtered/train/cats/cat.625.jpg',\n",
              "  '/content/2_day5-cats_and-dogs/cats_and_dogs_filtered/train/cats/cat.328.jpg',\n",
              "  '/content/2_day5-cats_and-dogs/cats_and_dogs_filtered/train/cats/cat.40.jpg',\n",
              "  '/content/2_day5-cats_and-dogs/cats_and_dogs_filtered/train/cats/cat.706.jpg',\n",
              "  '/content/2_day5-cats_and-dogs/cats_and_dogs_filtered/train/cats/cat.448.jpg',\n",
              "  '/content/2_day5-cats_and-dogs/cats_and_dogs_filtered/train/cats/cat.477.jpg',\n",
              "  '/content/2_day5-cats_and-dogs/cats_and_dogs_filtered/train/cats/cat.980.jpg',\n",
              "  '/content/2_day5-cats_and-dogs/cats_and_dogs_filtered/train/cats/cat.118.jpg',\n",
              "  '/content/2_day5-cats_and-dogs/cats_and_dogs_filtered/train/cats/cat.441.jpg'],\n",
              " ['/content/2_day5-cats_and-dogs/cats_and_dogs_filtered/train/dogs/dog.783.jpg',\n",
              "  '/content/2_day5-cats_and-dogs/cats_and_dogs_filtered/train/dogs/dog.350.jpg',\n",
              "  '/content/2_day5-cats_and-dogs/cats_and_dogs_filtered/train/dogs/dog.271.jpg',\n",
              "  '/content/2_day5-cats_and-dogs/cats_and_dogs_filtered/train/dogs/dog.212.jpg',\n",
              "  '/content/2_day5-cats_and-dogs/cats_and_dogs_filtered/train/dogs/dog.139.jpg',\n",
              "  '/content/2_day5-cats_and-dogs/cats_and_dogs_filtered/train/dogs/dog.981.jpg',\n",
              "  '/content/2_day5-cats_and-dogs/cats_and_dogs_filtered/train/dogs/dog.333.jpg',\n",
              "  '/content/2_day5-cats_and-dogs/cats_and_dogs_filtered/train/dogs/dog.362.jpg',\n",
              "  '/content/2_day5-cats_and-dogs/cats_and_dogs_filtered/train/dogs/dog.176.jpg',\n",
              "  '/content/2_day5-cats_and-dogs/cats_and_dogs_filtered/train/dogs/dog.51.jpg',\n",
              "  '/content/2_day5-cats_and-dogs/cats_and_dogs_filtered/train/dogs/dog.276.jpg',\n",
              "  '/content/2_day5-cats_and-dogs/cats_and_dogs_filtered/train/dogs/dog.411.jpg',\n",
              "  '/content/2_day5-cats_and-dogs/cats_and_dogs_filtered/train/dogs/dog.855.jpg',\n",
              "  '/content/2_day5-cats_and-dogs/cats_and_dogs_filtered/train/dogs/dog.39.jpg',\n",
              "  '/content/2_day5-cats_and-dogs/cats_and_dogs_filtered/train/dogs/dog.541.jpg',\n",
              "  '/content/2_day5-cats_and-dogs/cats_and_dogs_filtered/train/dogs/dog.964.jpg',\n",
              "  '/content/2_day5-cats_and-dogs/cats_and_dogs_filtered/train/dogs/dog.840.jpg',\n",
              "  '/content/2_day5-cats_and-dogs/cats_and_dogs_filtered/train/dogs/dog.54.jpg',\n",
              "  '/content/2_day5-cats_and-dogs/cats_and_dogs_filtered/train/dogs/dog.256.jpg',\n",
              "  '/content/2_day5-cats_and-dogs/cats_and_dogs_filtered/train/dogs/dog.326.jpg',\n",
              "  '/content/2_day5-cats_and-dogs/cats_and_dogs_filtered/train/dogs/dog.975.jpg',\n",
              "  '/content/2_day5-cats_and-dogs/cats_and_dogs_filtered/train/dogs/dog.466.jpg',\n",
              "  '/content/2_day5-cats_and-dogs/cats_and_dogs_filtered/train/dogs/dog.137.jpg',\n",
              "  '/content/2_day5-cats_and-dogs/cats_and_dogs_filtered/train/dogs/dog.915.jpg',\n",
              "  '/content/2_day5-cats_and-dogs/cats_and_dogs_filtered/train/dogs/dog.376.jpg'])"
            ]
          },
          "metadata": {
            "tags": []
          },
          "execution_count": 20
        }
      ]
    },
    {
      "metadata": {
        "id": "ev5W-IbhkDex",
        "colab_type": "text"
      },
      "cell_type": "markdown",
      "source": [
        "**Wizualizacja danych**\n",
        "\n",
        "---\n",
        "\n"
      ]
    },
    {
      "metadata": {
        "id": "2zHCBoBMicsi",
        "colab_type": "code",
        "colab": {}
      },
      "cell_type": "code",
      "source": [
        " "
      ],
      "execution_count": 0,
      "outputs": []
    }
  ]
}